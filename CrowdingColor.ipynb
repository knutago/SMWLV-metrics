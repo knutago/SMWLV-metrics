{
 "cells": [
  {
   "cell_type": "code",
   "execution_count": 1,
   "metadata": {},
   "outputs": [],
   "source": [
    "import numpy as np\n",
    "from scipy.interpolate import interp1d,griddata,interpn\n",
    "from astropy.table import Table\n",
    "import matplotlib.pylab as plt\n",
    "\n",
    "def compCrowdError(magVector, lumFunc, seeing, singleMag=None):\n",
    "        \"\"\"\n",
    "        Compute the crowding error for each observation\n",
    "\n",
    "        Parameters\n",
    "        ----------\n",
    "        magVector : np.array\n",
    "            Stellar magnitudes.\n",
    "        lumFunc : np.array\n",
    "            Stellar luminosity function.\n",
    "        seeing : float\n",
    "            The best seeing conditions. Assuming forced-photometry can use the best seeing conditions\n",
    "            to help with confusion errors.\n",
    "        singleMag : float (None)\n",
    "            If singleMag is None, the crowding error is calculated for each mag in magVector. If\n",
    "            singleMag is a float, the crowding error is interpolated to that single value.\n",
    "\n",
    "        Returns\n",
    "        -------\n",
    "        np.array\n",
    "            Magnitude uncertainties.\n",
    "\n",
    "\n",
    "        Equation from Olsen, Blum, & Rigaut 2003, AJ, 126, 452\n",
    "        \"\"\"\n",
    "\n",
    "        lumAreaArcsec = 3600.**2\n",
    "        lumVector = 10**(-0.4*magVector)\n",
    "        coeff=np.sqrt(np.pi/lumAreaArcsec)*seeing/2.\n",
    "        myIntegral = (np.add.accumulate((lumVector**2*lumFunc)[::-1]))[::-1]\n",
    "        temp = np.sqrt(myIntegral)/lumVector\n",
    "        if singleMag is not None:\n",
    "            interp = interp1d(magVector, temp)\n",
    "            temp = interp(singleMag)\n",
    "\n",
    "        crowdError = coeff*temp\n",
    "\n",
    "        return crowdError\n",
    "\n",
    "def compColorCrowdError(magVector1, magVector2, lumFunc12, seeing1, seeing2, singleMag1=None, singleMag2=None):\n",
    "        \"\"\"\n",
    "        Compute the crowding error for each observation\n",
    "\n",
    "        Parameters\n",
    "        ----------\n",
    "        magVector1 : np.array\n",
    "            Stellar magnitudes in band 1.\n",
    "        magVector2 : np.array\n",
    "            Stellar magnitudes in band 2.\n",
    "        lumFunc12 : np.array (2D)\n",
    "            Joint stellar luminosity function in bands 1 and 2.\n",
    "        seeing1 : float\n",
    "            Seeing in band 1.\n",
    "        seeing2 : float\n",
    "            Seeing in band 2.\n",
    "        singleMag1 : float (None)\n",
    "            If singleMag is None, the crowding error is calculated for each mag in magVector. If\n",
    "            singleMag is a float, the crowding error is interpolated to that single value.\n",
    "\n",
    "        Returns\n",
    "        -------\n",
    "        np.array\n",
    "            Magnitude uncertainties.\n",
    "\n",
    "\n",
    "        Equation from Olsen, Blum, & Rigaut 2003, AJ, 126, 452\n",
    "        \"\"\"\n",
    "\n",
    "        lumAreaArcsec = 3600.**2\n",
    "        lumVector1, lumVector2 = np.meshgrid(10**(-0.4*magVector1), 10**(-0.4*magVector2))\n",
    "\n",
    "        coeff=np.sqrt(np.pi/lumAreaArcsec)*np.min([seeing1,seeing2])/2.\n",
    "        innerInt = np.add.accumulate(np.flip(lumVector1*lumFunc12),axis=1)\n",
    "        outerInt = np.add.accumulate(np.flip(lumVector2)*innerInt,axis=0)\n",
    "        int2d = np.flip(outerInt)\n",
    "\n",
    "        temp = np.sqrt(int2d)/np.sqrt(lumVector1*lumVector2)\n",
    "\n",
    "        crowdError12 = coeff*temp\n",
    "        crowdError1 = compCrowdError(magVector1,np.sum(lumFunc12,axis=0),seeing1)\n",
    "        crowdError2 = compCrowdError(magVector2,np.sum(lumFunc12,axis=1),seeing2)\n",
    "        ce1, ce2 = np.meshgrid(crowdError1,crowdError2)\n",
    "        \n",
    "        colCrowdError = np.sqrt(ce1**2 + ce2**2 - 2*crowdError12**2)\n",
    "        if singleMag1 is not None and singleMag2 is not None:\n",
    "            interp = interp1d(magVector1, crowdError1)\n",
    "            crowdError1 = interp(singleMag1)\n",
    "            interp = interp1d(magVector2, crowdError2)\n",
    "            crowdError2 = interp(singleMag2)\n",
    "            #xvec,yvec = np.meshgrid(magVector1,magVector2)\n",
    "            interp = interpn((magVector1,magVector2),colCrowdError,(singleMag1,singleMag2))\n",
    "            colCrowdError = interp\n",
    "\n",
    "        return crowdError1, crowdError2, colCrowdError\n"
   ]
  },
  {
   "cell_type": "code",
   "execution_count": 2,
   "metadata": {},
   "outputs": [],
   "source": [
    "hpix=0\n",
    "tgi = Table.read('jointlf_gi.fits')\n",
    "gval = np.linspace(15,30,76)\n",
    "ival = np.linspace(12.5,27.5,76)\n",
    "els = tgi['nest64']==hpix\n",
    "gvec2, ivec2 = np.meshgrid(gval,ival)\n",
    "lf12 = griddata((tgi[els]['g'],tgi[els]['i']),tgi[els]['n'],(gvec2,ivec2),fill_value=0.)                                                        \n",
    "\n",
    "sig_g,sig_i,sig_gi = compColorCrowdError(gval, ival, lf12, 1.0, 1.0)\n"
   ]
  },
  {
   "cell_type": "code",
   "execution_count": 4,
   "metadata": {},
   "outputs": [
    {
     "data": {
      "text/plain": [
       "<matplotlib.collections.PathCollection at 0x7f70143cd940>"
      ]
     },
     "execution_count": 4,
     "metadata": {},
     "output_type": "execute_result"
    },
    {
     "data": {
      "image/png": "[encoded data removed]",
      "text/plain": [
       "<Figure size 432x288 with 1 Axes>"
      ]
     },
     "metadata": {
      "needs_background": "light"
     },
     "output_type": "display_data"
    }
   ],
   "source": [
    "plt.plot(gval,sig_g,c='b')\n",
    "plt.plot(ival,sig_i,c='r')\n",
    "pk = ((gvec2-ivec2)>0) & ((gvec2-ivec2)<2)\n",
    "plt.scatter(gvec2[pk],sig_gi[pk],c='g')"
   ]
  },
  {
   "cell_type": "code",
   "execution_count": 5,
   "metadata": {},
   "outputs": [
    {
     "data": {
      "text/plain": [
       "<matplotlib.image.AxesImage at 0x7f70143377b8>"
      ]
     },
     "execution_count": 5,
     "metadata": {},
     "output_type": "execute_result"
    },
    {
     "data": {
      "image/png": "[encoded data removed]",
      "text/plain": [
       "<Figure size 432x288 with 1 Axes>"
      ]
     },
     "metadata": {
      "needs_background": "light"
     },
     "output_type": "display_data"
    }
   ],
   "source": [
    "plt.imshow(sig_gi)"
   ]
  },
  {
   "cell_type": "code",
   "execution_count": 6,
   "metadata": {},
   "outputs": [
    {
     "name": "stdout",
     "output_type": "stream",
     "text": [
      "[0.09039475 0.10696939 0.11961761] [0.16829706 0.0929657  0.17909919] [0.14286944 0.13097853 0.17927216]\n"
     ]
    }
   ],
   "source": [
    "sig_g,sig_i,sig_gi = compColorCrowdError(gval, ival, lf12, 1.0, 1.0, singleMag1=np.array([23.,24.,25.]),\n",
    "                                         singleMag2=np.array([23.,20.,25.]))\n",
    "print(sig_g,sig_i,sig_gi)"
   ]
  },
  {
   "cell_type": "code",
   "execution_count": null,
   "metadata": {},
   "outputs": [],
   "source": []
  }
 ],
 "metadata": {
  "kernelspec": {
   "display_name": "Python 3",
   "language": "python",
   "name": "python3"
  },
  "language_info": {
   "codemirror_mode": {
    "name": "ipython",
    "version": 3
   },
   "file_extension": ".py",
   "mimetype": "text/x-python",
   "name": "python",
   "nbconvert_exporter": "python",
   "pygments_lexer": "ipython3",
   "version": "3.7.3"
  }
 },
 "nbformat": 4,
 "nbformat_minor": 4
}
